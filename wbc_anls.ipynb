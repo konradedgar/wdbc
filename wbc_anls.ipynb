{
 "cells": [
  {
   "cell_type": "markdown",
   "metadata": {},
   "source": [
    "# WDBC Data Sets Analysis"
   ]
  },
  {
   "cell_type": "markdown",
   "metadata": {},
   "source": [
    "The following jupyter notebook provides summary of the analysis undertaken on the `WDBC` data set."
   ]
  },
  {
   "cell_type": "markdown",
   "metadata": {},
   "source": [
    "## Download"
   ]
  },
  {
   "cell_type": "markdown",
   "metadata": {},
   "source": [
    "Download available files.\n",
    " 1. List available files from the website\n",
    " 2. Create absolute url paths and download files to temp folder\n",
    "*The snippet useful if re-running the netbook and saves hassle with sourcing raw data*"
   ]
  },
  {
   "cell_type": "code",
   "execution_count": 4,
   "metadata": {},
   "outputs": [],
   "source": [
    "# Modules\n",
    "import os\n",
    "import tempfile\n",
    "from urllib.request import urlopen\n",
    "from urllib.request import urlretrieve\n",
    "from urllib.parse import urljoin\n",
    "from bs4 import BeautifulSoup\n",
    "from termcolor import colored"
   ]
  },
  {
   "cell_type": "code",
   "execution_count": 8,
   "metadata": {},
   "outputs": [
    {
     "name": "stdout",
     "output_type": "stream",
     "text": [
      "\u001b[34mhttps://archive.ics.uci.edu/ml/machine-learning-databases/breast-cancer-wisconsin/breast-cancer-wisconsin.data\u001b[0m\n",
      "\u001b[32mSaved: /var/folders/7x/kwc1y_l96t55_rwlv35mg8xh0000gn/T/tmperolz9s4wdbc_data/breast-cancer-wisconsin.data\u001b[0m\n",
      "\u001b[34mhttps://archive.ics.uci.edu/ml/machine-learning-databases/breast-cancer-wisconsin/breast-cancer-wisconsin.names\u001b[0m\n",
      "\u001b[32mSaved: /var/folders/7x/kwc1y_l96t55_rwlv35mg8xh0000gn/T/tmperolz9s4wdbc_data/breast-cancer-wisconsin.names\u001b[0m\n",
      "\u001b[34mhttps://archive.ics.uci.edu/ml/machine-learning-databases/breast-cancer-wisconsin/wdbc.data\u001b[0m\n",
      "\u001b[32mSaved: /var/folders/7x/kwc1y_l96t55_rwlv35mg8xh0000gn/T/tmperolz9s4wdbc_data/wdbc.data\u001b[0m\n",
      "\u001b[34mhttps://archive.ics.uci.edu/ml/machine-learning-databases/breast-cancer-wisconsin/wdbc.names\u001b[0m\n",
      "\u001b[32mSaved: /var/folders/7x/kwc1y_l96t55_rwlv35mg8xh0000gn/T/tmperolz9s4wdbc_data/wdbc.names\u001b[0m\n",
      "\u001b[34mhttps://archive.ics.uci.edu/ml/machine-learning-databases/breast-cancer-wisconsin/wpbc.data\u001b[0m\n",
      "\u001b[32mSaved: /var/folders/7x/kwc1y_l96t55_rwlv35mg8xh0000gn/T/tmperolz9s4wdbc_data/wpbc.data\u001b[0m\n",
      "\u001b[34mhttps://archive.ics.uci.edu/ml/machine-learning-databases/breast-cancer-wisconsin/wpbc.names\u001b[0m\n",
      "\u001b[32mSaved: /var/folders/7x/kwc1y_l96t55_rwlv35mg8xh0000gn/T/tmperolz9s4wdbc_data/wpbc.names\u001b[0m\n"
     ]
    }
   ],
   "source": [
    "# Temp storage\n",
    "tmp_fld = tempfile.mkdtemp(suffix='wdbc_data', prefix='tmp')\n",
    "url_dta_fld = 'https://archive.ics.uci.edu/ml/machine-learning-databases/breast-cancer-wisconsin/'\n",
    "site = urlopen(url_dta_fld)\n",
    "content = site.read()\n",
    "soup = BeautifulSoup(content, \"html.parser\")\n",
    "list_urls = soup.find_all('a')\n",
    "# Download desired files\n",
    "dta_fls = []\n",
    "for url in list_urls:\n",
    "    asst_url = urljoin(url_dta_fld,url['href'])\n",
    "    if asst_url.endswith(('.data', '.names')):\n",
    "        dta_fls.append(os.path.join(tmp_fld, asst_url.split('/')[-1]))\n",
    "        print(asst_url)\n",
    "        urlretrieve(url=asst_url, filename=dta_fls[-1])\n",
    "        print(colored('Saved: ' + dta_fls[-1], 'green'))"
   ]
  }
 ],
 "metadata": {
  "kernelspec": {
   "display_name": "Python 3",
   "language": "python",
   "name": "python3"
  },
  "language_info": {
   "codemirror_mode": {
    "name": "ipython",
    "version": 3
   },
   "file_extension": ".py",
   "mimetype": "text/x-python",
   "name": "python",
   "nbconvert_exporter": "python",
   "pygments_lexer": "ipython3",
   "version": "3.6.4"
  }
 },
 "nbformat": 4,
 "nbformat_minor": 2
}
