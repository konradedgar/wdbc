{
 "cells": [
  {
   "cell_type": "markdown",
   "metadata": {},
   "source": [
    "# WDBC Data Sets Analysis"
   ]
  },
  {
   "cell_type": "markdown",
   "metadata": {},
   "source": [
    "The following jupyter notebook provides summary of the analysis undertaken on the `WDBC` data set."
   ]
  },
  {
   "cell_type": "markdown",
   "metadata": {},
   "source": [
    "## Outline"
   ]
  },
  {
   "cell_type": "markdown",
   "metadata": {},
   "source": [
    "* **Download** section covers initial file sourcing and import\n",
    "* **Descriptive analysis** section focus on answering first two question concerned with descriptive statistics of `perimeter` feature and distribution characteristics of the `radius` variable\n",
    "* **Modelling** section covers last element of assignment pertaining to classifier training and model development"
   ]
  },
  {
   "cell_type": "markdown",
   "metadata": {},
   "source": [
    "## Download"
   ]
  },
  {
   "cell_type": "markdown",
   "metadata": {},
   "source": [
    "Download available files.\n",
    " 1. List available files from the website\n",
    " 2. Create absolute url paths and download files to temp folder\n",
    "*The snippet useful if re-running the netbook and saves hassle with sourcing raw data*"
   ]
  },
  {
   "cell_type": "code",
   "execution_count": 129,
   "metadata": {},
   "outputs": [
    {
     "name": "stderr",
     "output_type": "stream",
     "text": [
      "/Users/huski/miniconda3/lib/python3.6/site-packages/matplotlib/font_manager.py:278: UserWarning:\n",
      "\n",
      "Matplotlib is building the font cache using fc-list. This may take a moment.\n",
      "\n"
     ]
    }
   ],
   "source": [
    "# Modules\n",
    "# File download and storage\n",
    "import os\n",
    "import sys\n",
    "import tempfile\n",
    "from urllib.request import urlopen\n",
    "from urllib.request import urlretrieve\n",
    "from urllib.parse import urljoin\n",
    "from bs4 import BeautifulSoup\n",
    "# Data manipulation\n",
    "import pandas as pd\n",
    "# Gadgets\n",
    "from termcolor import colored # Coloured console output\n",
    "import humanize # Human readable units (useful for file sizes, etc.)\n",
    "from IPython.display import display, HTML # Common aproach to keep nice layout and avoid printing index\n",
    "import seaborn as sns # Charts"
   ]
  },
  {
   "cell_type": "code",
   "execution_count": 2,
   "metadata": {},
   "outputs": [
    {
     "name": "stdout",
     "output_type": "stream",
     "text": [
      "https://archive.ics.uci.edu/ml/machine-learning-databases/breast-cancer-wisconsin/breast-cancer-wisconsin.data\n",
      "\u001b[32mSaved: /var/folders/7x/kwc1y_l96t55_rwlv35mg8xh0000gn/T/tmpjhtnd_lvwdbc_data/breast-cancer-wisconsin.data\u001b[0m\n",
      "https://archive.ics.uci.edu/ml/machine-learning-databases/breast-cancer-wisconsin/breast-cancer-wisconsin.names\n",
      "\u001b[32mSaved: /var/folders/7x/kwc1y_l96t55_rwlv35mg8xh0000gn/T/tmpjhtnd_lvwdbc_data/breast-cancer-wisconsin.names\u001b[0m\n",
      "https://archive.ics.uci.edu/ml/machine-learning-databases/breast-cancer-wisconsin/wdbc.data\n",
      "\u001b[32mSaved: /var/folders/7x/kwc1y_l96t55_rwlv35mg8xh0000gn/T/tmpjhtnd_lvwdbc_data/wdbc.data\u001b[0m\n",
      "https://archive.ics.uci.edu/ml/machine-learning-databases/breast-cancer-wisconsin/wdbc.names\n",
      "\u001b[32mSaved: /var/folders/7x/kwc1y_l96t55_rwlv35mg8xh0000gn/T/tmpjhtnd_lvwdbc_data/wdbc.names\u001b[0m\n",
      "https://archive.ics.uci.edu/ml/machine-learning-databases/breast-cancer-wisconsin/wpbc.data\n",
      "\u001b[32mSaved: /var/folders/7x/kwc1y_l96t55_rwlv35mg8xh0000gn/T/tmpjhtnd_lvwdbc_data/wpbc.data\u001b[0m\n",
      "https://archive.ics.uci.edu/ml/machine-learning-databases/breast-cancer-wisconsin/wpbc.names\n",
      "\u001b[32mSaved: /var/folders/7x/kwc1y_l96t55_rwlv35mg8xh0000gn/T/tmpjhtnd_lvwdbc_data/wpbc.names\u001b[0m\n"
     ]
    }
   ],
   "source": [
    "# Download relevant files to temp storage\n",
    "tmp_fld = tempfile.mkdtemp(suffix='wdbc_data', prefix='tmp')\n",
    "url_dta_fld = 'https://archive.ics.uci.edu/ml/machine-learning-databases/breast-cancer-wisconsin/'\n",
    "site = urlopen(url_dta_fld)\n",
    "content = site.read()\n",
    "soup = BeautifulSoup(content, \"html.parser\")\n",
    "list_urls = soup.find_all('a')\n",
    "# Download desired files\n",
    "dta_fls = []\n",
    "for url in list_urls:\n",
    "    asst_url = urljoin(url_dta_fld,url['href'])\n",
    "    # Names are useful for the attribute information\n",
    "    if asst_url.endswith(('.data', '.names')):\n",
    "        dta_fls.append(os.path.join(tmp_fld, asst_url.split('/')[-1]))\n",
    "        print(asst_url)\n",
    "        urlretrieve(url=asst_url, filename=dta_fls[-1])\n",
    "        print(colored('Saved: ' + dta_fls[-1], 'green'))"
   ]
  },
  {
   "cell_type": "markdown",
   "metadata": {},
   "source": [
    "### Available files\n",
    "_Includes summary of .names files_"
   ]
  },
  {
   "cell_type": "code",
   "execution_count": 41,
   "metadata": {},
   "outputs": [
    {
     "data": {
      "text/html": [
       "<table border=\"1\" class=\"dataframe\">\n",
       "  <thead>\n",
       "    <tr style=\"text-align: right;\">\n",
       "      <th>file</th>\n",
       "      <th>lines</th>\n",
       "      <th>size</th>\n",
       "    </tr>\n",
       "  </thead>\n",
       "  <tbody>\n",
       "    <tr>\n",
       "      <td>breast-cancer-wisconsin.data</td>\n",
       "      <td>98</td>\n",
       "      <td>19.9 kB</td>\n",
       "    </tr>\n",
       "    <tr>\n",
       "      <td>breast-cancer-wisconsin.names</td>\n",
       "      <td>99</td>\n",
       "      <td>5.7 kB</td>\n",
       "    </tr>\n",
       "    <tr>\n",
       "      <td>wdbc.data</td>\n",
       "      <td>79</td>\n",
       "      <td>124.1 kB</td>\n",
       "    </tr>\n",
       "    <tr>\n",
       "      <td>wdbc.names</td>\n",
       "      <td>80</td>\n",
       "      <td>4.7 kB</td>\n",
       "    </tr>\n",
       "    <tr>\n",
       "      <td>wpbc.data</td>\n",
       "      <td>79</td>\n",
       "      <td>44.2 kB</td>\n",
       "    </tr>\n",
       "    <tr>\n",
       "      <td>wpbc.names</td>\n",
       "      <td>80</td>\n",
       "      <td>5.7 kB</td>\n",
       "    </tr>\n",
       "  </tbody>\n",
       "</table>"
      ],
      "text/plain": [
       "<IPython.core.display.HTML object>"
      ]
     },
     "metadata": {},
     "output_type": "display_data"
    }
   ],
   "source": [
    "dta_fls_info = pd.DataFrame(\n",
    "    {'file' : list(map(os.path.basename, dta_fls)),\n",
    "     'size' : [humanize.naturalsize(os.path.getsize(fle)) for fle in dta_fls],\n",
    "     'lines' : list(map(lambda fle: sum(1 for _ in fle), dta_fls))\n",
    "    })\n",
    "display(HTML(dta_fls_info.to_html(index=False)))"
   ]
  },
  {
   "cell_type": "markdown",
   "metadata": {},
   "source": [
    "### Import"
   ]
  },
  {
   "cell_type": "code",
   "execution_count": 37,
   "metadata": {},
   "outputs": [],
   "source": [
    "# --- Do not run ---\n",
    "stdout_nms = []\n",
    "for fle in dta_fls:\n",
    "    if fle.endswith('names'):\n",
    "        stdout_nms.append(os.popen(\"cat \" + fle).read())\n",
    "# --- Do not run ---\n",
    "# stdout_nms\n",
    "# The one coule analyse *.names files to pick relevant list but the .names file format and number of variables\n",
    "# does not justify that effort."
   ]
  },
  {
   "cell_type": "markdown",
   "metadata": {},
   "source": [
    "#### Conveniance function (pd sample)\n",
    "Simple conveniance function providing data frame preview by taking head/tail and wee sample in for the middle. More useful than changing defult printing options, IMHO."
   ]
  },
  {
   "cell_type": "code",
   "execution_count": 69,
   "metadata": {},
   "outputs": [],
   "source": [
    "def pd_preview (data_frame, sample_size = 3, tail_lines = 1, head_lines = 1):\n",
    "    # Generate data frames to append\n",
    "    df_head = data_frame.head(n = head_lines)\n",
    "    df_tail = data_frame.tail(n = tail_lines)\n",
    "    df_smpl = data_frame.sample(n = sample_size)\n",
    "    # Append\n",
    "    df_preview = df_head.append([df_smpl, df_tail])\n",
    "    return df_preview"
   ]
  },
  {
   "cell_type": "markdown",
   "metadata": {},
   "source": [
    "### Read"
   ]
  },
  {
   "cell_type": "markdown",
   "metadata": {},
   "source": [
    "Read data sets, including **core** wdbc data set as well as other data set available in the folder (for the evenual further "
   ]
  },
  {
   "cell_type": "code",
   "execution_count": 73,
   "metadata": {},
   "outputs": [
    {
     "data": {
      "text/html": [
       "<div>\n",
       "<style scoped>\n",
       "    .dataframe tbody tr th:only-of-type {\n",
       "        vertical-align: middle;\n",
       "    }\n",
       "\n",
       "    .dataframe tbody tr th {\n",
       "        vertical-align: top;\n",
       "    }\n",
       "\n",
       "    .dataframe thead th {\n",
       "        text-align: right;\n",
       "    }\n",
       "</style>\n",
       "<table border=\"1\" class=\"dataframe\">\n",
       "  <thead>\n",
       "    <tr style=\"text-align: right;\">\n",
       "      <th></th>\n",
       "      <th>id_num</th>\n",
       "      <th>clump_thickness</th>\n",
       "      <th>uniformity_cell_size</th>\n",
       "      <th>uniformity_cell_shape</th>\n",
       "      <th>marginal_adhesion</th>\n",
       "      <th>single_epithelial_cell_size</th>\n",
       "      <th>bare_nuclei</th>\n",
       "      <th>bland_chromatin</th>\n",
       "      <th>normal_nucleoli</th>\n",
       "      <th>mitoses</th>\n",
       "      <th>class</th>\n",
       "    </tr>\n",
       "  </thead>\n",
       "  <tbody>\n",
       "    <tr>\n",
       "      <th>0</th>\n",
       "      <td>1000025</td>\n",
       "      <td>5</td>\n",
       "      <td>1</td>\n",
       "      <td>1</td>\n",
       "      <td>1</td>\n",
       "      <td>2</td>\n",
       "      <td>1</td>\n",
       "      <td>3</td>\n",
       "      <td>1</td>\n",
       "      <td>1</td>\n",
       "      <td>2</td>\n",
       "    </tr>\n",
       "    <tr>\n",
       "      <th>430</th>\n",
       "      <td>1276091</td>\n",
       "      <td>1</td>\n",
       "      <td>3</td>\n",
       "      <td>1</td>\n",
       "      <td>1</td>\n",
       "      <td>2</td>\n",
       "      <td>1</td>\n",
       "      <td>2</td>\n",
       "      <td>2</td>\n",
       "      <td>1</td>\n",
       "      <td>2</td>\n",
       "    </tr>\n",
       "    <tr>\n",
       "      <th>192</th>\n",
       "      <td>1212232</td>\n",
       "      <td>5</td>\n",
       "      <td>1</td>\n",
       "      <td>1</td>\n",
       "      <td>1</td>\n",
       "      <td>2</td>\n",
       "      <td>1</td>\n",
       "      <td>2</td>\n",
       "      <td>1</td>\n",
       "      <td>1</td>\n",
       "      <td>2</td>\n",
       "    </tr>\n",
       "    <tr>\n",
       "      <th>348</th>\n",
       "      <td>832226</td>\n",
       "      <td>3</td>\n",
       "      <td>4</td>\n",
       "      <td>4</td>\n",
       "      <td>10</td>\n",
       "      <td>5</td>\n",
       "      <td>1</td>\n",
       "      <td>3</td>\n",
       "      <td>3</td>\n",
       "      <td>1</td>\n",
       "      <td>4</td>\n",
       "    </tr>\n",
       "    <tr>\n",
       "      <th>698</th>\n",
       "      <td>897471</td>\n",
       "      <td>4</td>\n",
       "      <td>8</td>\n",
       "      <td>8</td>\n",
       "      <td>5</td>\n",
       "      <td>4</td>\n",
       "      <td>5</td>\n",
       "      <td>10</td>\n",
       "      <td>4</td>\n",
       "      <td>1</td>\n",
       "      <td>4</td>\n",
       "    </tr>\n",
       "  </tbody>\n",
       "</table>\n",
       "</div>"
      ],
      "text/plain": [
       "      id_num  clump_thickness  uniformity_cell_size  uniformity_cell_shape  \\\n",
       "0    1000025                5                     1                      1   \n",
       "430  1276091                1                     3                      1   \n",
       "192  1212232                5                     1                      1   \n",
       "348   832226                3                     4                      4   \n",
       "698   897471                4                     8                      8   \n",
       "\n",
       "     marginal_adhesion  single_epithelial_cell_size bare_nuclei  \\\n",
       "0                    1                            2           1   \n",
       "430                  1                            2           1   \n",
       "192                  1                            2           1   \n",
       "348                 10                            5           1   \n",
       "698                  5                            4           5   \n",
       "\n",
       "     bland_chromatin  normal_nucleoli  mitoses  class  \n",
       "0                  3                1        1      2  \n",
       "430                2                2        1      2  \n",
       "192                2                1        1      2  \n",
       "348                3                3        1      4  \n",
       "698               10                4        1      4  "
      ]
     },
     "execution_count": 73,
     "metadata": {},
     "output_type": "execute_result"
    }
   ],
   "source": [
    "dta_brst_cncr = pd.read_csv(filepath_or_buffer=dta_fls[0],\n",
    "                            names=['id_num', \n",
    "                                   'clump_thickness',\n",
    "                                   'uniformity_cell_size',\n",
    "                                   'uniformity_cell_shape',\n",
    "                                   'marginal_adhesion',\n",
    "                                   'single_epithelial_cell_size',\n",
    "                                   'bare_nuclei',\n",
    "                                   'bland_chromatin',\n",
    "                                   'normal_nucleoli',\n",
    "                                   'mitoses',\n",
    "                                   'class'])\n",
    "preview(dta_brst_cncr)"
   ]
  },
  {
   "cell_type": "markdown",
   "metadata": {},
   "source": [
    "This is **core** data set, initial analysis will be conducted on this data set."
   ]
  },
  {
   "cell_type": "markdown",
   "metadata": {},
   "source": [
    "The column names are derived as per the information available in wdbc.names. `*_lsrgst` columns reflect \"worst\" or largest (mean of the three largest values)\" metric as per the [available documentation](https://archive.ics.uci.edu/ml/machine-learning-databases/breast-cancer-wisconsin/wdbc.names)."
   ]
  },
  {
   "cell_type": "code",
   "execution_count": 98,
   "metadata": {},
   "outputs": [],
   "source": [
    "# Col names\n",
    "col_nms = ['ID', 'diagnosis', 'radius', 'texture', 'perimeter', 'area',\n",
    "           'smoothness', 'compactness', 'concavity', 'concave_points',\n",
    "           'symmetry', 'fractal_dimension', 'radius_se', 'texture_se', \n",
    "           'perimeter_se', 'area_se', 'smoothness_se', \n",
    "           'compactness_se', 'concavity_se', 'concave_points_se', \n",
    "           'symmetry_se', 'fractal_dimension_se', \n",
    "           'radius_lrgst', 'texture_lrgst', 'perimeter_lrgst',\n",
    "           'area_lrgst', 'smoothness_lrgst', \n",
    "           'compactness_lrgst', 'concavity_lrgst', \n",
    "           'concave_points_lrgst', 'symmetry_lrgst', \n",
    "           'fractal_dimension_lrgst']\n"
   ]
  },
  {
   "cell_type": "code",
   "execution_count": 99,
   "metadata": {},
   "outputs": [],
   "source": [
    "dta_wdbc = pd.read_csv(filepath_or_buffer=dta_fls[2],\n",
    "                      names=col_nms)\n",
    "# US ID as index\n",
    "dta_wdbc.set_index(['ID'], inplace=True)"
   ]
  },
  {
   "cell_type": "code",
   "execution_count": 100,
   "metadata": {},
   "outputs": [
    {
     "data": {
      "text/html": [
       "<div>\n",
       "<style scoped>\n",
       "    .dataframe tbody tr th:only-of-type {\n",
       "        vertical-align: middle;\n",
       "    }\n",
       "\n",
       "    .dataframe tbody tr th {\n",
       "        vertical-align: top;\n",
       "    }\n",
       "\n",
       "    .dataframe thead th {\n",
       "        text-align: right;\n",
       "    }\n",
       "</style>\n",
       "<table border=\"1\" class=\"dataframe\">\n",
       "  <thead>\n",
       "    <tr style=\"text-align: right;\">\n",
       "      <th></th>\n",
       "      <th>diagnosis</th>\n",
       "      <th>radius</th>\n",
       "      <th>texture</th>\n",
       "      <th>perimeter</th>\n",
       "      <th>area</th>\n",
       "      <th>smoothness</th>\n",
       "      <th>compactness</th>\n",
       "      <th>concavity</th>\n",
       "      <th>concave_points</th>\n",
       "      <th>symmetry</th>\n",
       "      <th>...</th>\n",
       "      <th>radius_lrgst</th>\n",
       "      <th>texture_lrgst</th>\n",
       "      <th>perimeter_lrgst</th>\n",
       "      <th>area_lrgst</th>\n",
       "      <th>smoothness_lrgst</th>\n",
       "      <th>compactness_lrgst</th>\n",
       "      <th>concavity_lrgst</th>\n",
       "      <th>concave_points_lrgst</th>\n",
       "      <th>symmetry_lrgst</th>\n",
       "      <th>fractal_dimension_lrgst</th>\n",
       "    </tr>\n",
       "    <tr>\n",
       "      <th>ID</th>\n",
       "      <th></th>\n",
       "      <th></th>\n",
       "      <th></th>\n",
       "      <th></th>\n",
       "      <th></th>\n",
       "      <th></th>\n",
       "      <th></th>\n",
       "      <th></th>\n",
       "      <th></th>\n",
       "      <th></th>\n",
       "      <th></th>\n",
       "      <th></th>\n",
       "      <th></th>\n",
       "      <th></th>\n",
       "      <th></th>\n",
       "      <th></th>\n",
       "      <th></th>\n",
       "      <th></th>\n",
       "      <th></th>\n",
       "      <th></th>\n",
       "      <th></th>\n",
       "    </tr>\n",
       "  </thead>\n",
       "  <tbody>\n",
       "    <tr>\n",
       "      <th>842302</th>\n",
       "      <td>M</td>\n",
       "      <td>17.99</td>\n",
       "      <td>10.38</td>\n",
       "      <td>122.80</td>\n",
       "      <td>1001.0</td>\n",
       "      <td>0.11840</td>\n",
       "      <td>0.27760</td>\n",
       "      <td>0.30010</td>\n",
       "      <td>0.14710</td>\n",
       "      <td>0.2419</td>\n",
       "      <td>...</td>\n",
       "      <td>25.380</td>\n",
       "      <td>17.33</td>\n",
       "      <td>184.60</td>\n",
       "      <td>2019.0</td>\n",
       "      <td>0.16220</td>\n",
       "      <td>0.66560</td>\n",
       "      <td>0.7119</td>\n",
       "      <td>0.26540</td>\n",
       "      <td>0.4601</td>\n",
       "      <td>0.11890</td>\n",
       "    </tr>\n",
       "    <tr>\n",
       "      <th>8510426</th>\n",
       "      <td>B</td>\n",
       "      <td>13.54</td>\n",
       "      <td>14.36</td>\n",
       "      <td>87.46</td>\n",
       "      <td>566.3</td>\n",
       "      <td>0.09779</td>\n",
       "      <td>0.08129</td>\n",
       "      <td>0.06664</td>\n",
       "      <td>0.04781</td>\n",
       "      <td>0.1885</td>\n",
       "      <td>...</td>\n",
       "      <td>15.110</td>\n",
       "      <td>19.26</td>\n",
       "      <td>99.70</td>\n",
       "      <td>711.2</td>\n",
       "      <td>0.14400</td>\n",
       "      <td>0.17730</td>\n",
       "      <td>0.2390</td>\n",
       "      <td>0.12880</td>\n",
       "      <td>0.2977</td>\n",
       "      <td>0.07259</td>\n",
       "    </tr>\n",
       "    <tr>\n",
       "      <th>8913</th>\n",
       "      <td>B</td>\n",
       "      <td>12.89</td>\n",
       "      <td>13.12</td>\n",
       "      <td>81.89</td>\n",
       "      <td>515.9</td>\n",
       "      <td>0.06955</td>\n",
       "      <td>0.03729</td>\n",
       "      <td>0.02260</td>\n",
       "      <td>0.01171</td>\n",
       "      <td>0.1337</td>\n",
       "      <td>...</td>\n",
       "      <td>13.620</td>\n",
       "      <td>15.54</td>\n",
       "      <td>87.40</td>\n",
       "      <td>577.0</td>\n",
       "      <td>0.09616</td>\n",
       "      <td>0.11470</td>\n",
       "      <td>0.1186</td>\n",
       "      <td>0.05366</td>\n",
       "      <td>0.2309</td>\n",
       "      <td>0.06915</td>\n",
       "    </tr>\n",
       "    <tr>\n",
       "      <th>91858</th>\n",
       "      <td>B</td>\n",
       "      <td>11.75</td>\n",
       "      <td>17.56</td>\n",
       "      <td>75.89</td>\n",
       "      <td>422.9</td>\n",
       "      <td>0.10730</td>\n",
       "      <td>0.09713</td>\n",
       "      <td>0.05282</td>\n",
       "      <td>0.04440</td>\n",
       "      <td>0.1598</td>\n",
       "      <td>...</td>\n",
       "      <td>13.500</td>\n",
       "      <td>27.98</td>\n",
       "      <td>88.52</td>\n",
       "      <td>552.3</td>\n",
       "      <td>0.13490</td>\n",
       "      <td>0.18540</td>\n",
       "      <td>0.1366</td>\n",
       "      <td>0.10100</td>\n",
       "      <td>0.2478</td>\n",
       "      <td>0.07757</td>\n",
       "    </tr>\n",
       "    <tr>\n",
       "      <th>92751</th>\n",
       "      <td>B</td>\n",
       "      <td>7.76</td>\n",
       "      <td>24.54</td>\n",
       "      <td>47.92</td>\n",
       "      <td>181.0</td>\n",
       "      <td>0.05263</td>\n",
       "      <td>0.04362</td>\n",
       "      <td>0.00000</td>\n",
       "      <td>0.00000</td>\n",
       "      <td>0.1587</td>\n",
       "      <td>...</td>\n",
       "      <td>9.456</td>\n",
       "      <td>30.37</td>\n",
       "      <td>59.16</td>\n",
       "      <td>268.6</td>\n",
       "      <td>0.08996</td>\n",
       "      <td>0.06444</td>\n",
       "      <td>0.0000</td>\n",
       "      <td>0.00000</td>\n",
       "      <td>0.2871</td>\n",
       "      <td>0.07039</td>\n",
       "    </tr>\n",
       "  </tbody>\n",
       "</table>\n",
       "<p>5 rows × 31 columns</p>\n",
       "</div>"
      ],
      "text/plain": [
       "        diagnosis  radius  texture  perimeter    area  smoothness  \\\n",
       "ID                                                                  \n",
       "842302          M   17.99    10.38     122.80  1001.0     0.11840   \n",
       "8510426         B   13.54    14.36      87.46   566.3     0.09779   \n",
       "8913            B   12.89    13.12      81.89   515.9     0.06955   \n",
       "91858           B   11.75    17.56      75.89   422.9     0.10730   \n",
       "92751           B    7.76    24.54      47.92   181.0     0.05263   \n",
       "\n",
       "         compactness  concavity  concave_points  symmetry  \\\n",
       "ID                                                          \n",
       "842302       0.27760    0.30010         0.14710    0.2419   \n",
       "8510426      0.08129    0.06664         0.04781    0.1885   \n",
       "8913         0.03729    0.02260         0.01171    0.1337   \n",
       "91858        0.09713    0.05282         0.04440    0.1598   \n",
       "92751        0.04362    0.00000         0.00000    0.1587   \n",
       "\n",
       "                  ...             radius_lrgst  texture_lrgst  \\\n",
       "ID                ...                                           \n",
       "842302            ...                   25.380          17.33   \n",
       "8510426           ...                   15.110          19.26   \n",
       "8913              ...                   13.620          15.54   \n",
       "91858             ...                   13.500          27.98   \n",
       "92751             ...                    9.456          30.37   \n",
       "\n",
       "         perimeter_lrgst  area_lrgst  smoothness_lrgst  compactness_lrgst  \\\n",
       "ID                                                                          \n",
       "842302            184.60      2019.0           0.16220            0.66560   \n",
       "8510426            99.70       711.2           0.14400            0.17730   \n",
       "8913               87.40       577.0           0.09616            0.11470   \n",
       "91858              88.52       552.3           0.13490            0.18540   \n",
       "92751              59.16       268.6           0.08996            0.06444   \n",
       "\n",
       "         concavity_lrgst  concave_points_lrgst  symmetry_lrgst  \\\n",
       "ID                                                               \n",
       "842302            0.7119               0.26540          0.4601   \n",
       "8510426           0.2390               0.12880          0.2977   \n",
       "8913              0.1186               0.05366          0.2309   \n",
       "91858             0.1366               0.10100          0.2478   \n",
       "92751             0.0000               0.00000          0.2871   \n",
       "\n",
       "         fractal_dimension_lrgst  \n",
       "ID                                \n",
       "842302                   0.11890  \n",
       "8510426                  0.07259  \n",
       "8913                     0.06915  \n",
       "91858                    0.07757  \n",
       "92751                    0.07039  \n",
       "\n",
       "[5 rows x 31 columns]"
      ]
     },
     "execution_count": 100,
     "metadata": {},
     "output_type": "execute_result"
    }
   ],
   "source": [
    "preview(dta_wdbc)"
   ]
  },
  {
   "cell_type": "markdown",
   "metadata": {},
   "source": [
    "# Descriptive analysis"
   ]
  },
  {
   "cell_type": "markdown",
   "metadata": {},
   "source": [
    "The following section provides initial descriptive analysis as well as introduces some addittional metrics. The assigned deliverables pertain to:\n",
    "1. Computing mean, median and standard deviation of `perimeter` feature\n",
    "2. Normal distribution test for `radius` variable"
   ]
  },
  {
   "cell_type": "markdown",
   "metadata": {},
   "source": [
    "## *Perimeter* feature - descriptive analysis"
   ]
  },
  {
   "cell_type": "markdown",
   "metadata": {},
   "source": [
    "Following the provided documentation, the `perimeter` feature is represented in the data set with use of the following variables."
   ]
  },
  {
   "cell_type": "code",
   "execution_count": 101,
   "metadata": {},
   "outputs": [
    {
     "name": "stdout",
     "output_type": "stream",
     "text": [
      "perimeter\n",
      "perimeter_se\n",
      "perimeter_lrgst\n"
     ]
    }
   ],
   "source": [
    "# Case insenstive search is not required but does it's good practice\n",
    "print(\"\\n\".join(s for s in col_nms if 'perimeter' in s.lower()))"
   ]
  },
  {
   "cell_type": "code",
   "execution_count": 110,
   "metadata": {},
   "outputs": [
    {
     "data": {
      "text/plain": [
       "mean      91.969033\n",
       "median    86.240000\n",
       "std       24.298981\n",
       "Name: perimeter, dtype: float64"
      ]
     },
     "execution_count": 110,
     "metadata": {},
     "output_type": "execute_result"
    }
   ],
   "source": [
    "# Compute required statistics using pandas df.agg\n",
    "dta_smry_perimeter = dta_wdbc['perimeter'].agg(['mean', 'median', 'std'])\n",
    "dta_smry_perimeter"
   ]
  },
  {
   "cell_type": "markdown",
   "metadata": {},
   "source": [
    "#### Answer"
   ]
  },
  {
   "cell_type": "code",
   "execution_count": 122,
   "metadata": {},
   "outputs": [
    {
     "name": "stdout",
     "output_type": "stream",
     "text": [
      "The average value of the perimeter feature is 91.97, median 86.24 and standard deviation is 24.3.\n"
     ]
    }
   ],
   "source": [
    "print('The average value of the perimeter feature is ' + str(round(dta_smry_perimeter['mean'], 2)) + \n",
    "      ', median ' + str(round(dta_smry_perimeter['median'], 2)) + ' and standard deviation is ' +\n",
    "     str(round(dta_smry_perimeter['std'], 2)) + '.')"
   ]
  },
  {
   "cell_type": "markdown",
   "metadata": {},
   "source": [
    "##### Box Plot"
   ]
  },
  {
   "cell_type": "markdown",
   "metadata": {},
   "source": [
    "*The desired dispersion can be convenintely visualised with use of a box plot, the figure below addittionaly overplots "
   ]
  },
  {
   "cell_type": "code",
   "execution_count": 152,
   "metadata": {},
   "outputs": [
    {
     "data": {
      "text/plain": [
       "<matplotlib.axes._subplots.AxesSubplot at 0x1a24d2fc18>"
      ]
     },
     "execution_count": 152,
     "metadata": {},
     "output_type": "execute_result"
    },
    {
     "data": {
      "image/png": "[encoded data removed]",
      "text/plain": [
       "<Figure size 842.4x595.44 with 1 Axes>"
      ]
     },
     "metadata": {},
     "output_type": "display_data"
    }
   ],
   "source": [
    "# Force bigger seaborn figure size: https://stackoverflow.com/a/47955814/1655567\n",
    "sns.set(context='notebook', style='whitegrid', rc={'figure.figsize':(11.7,8.27)})\n",
    "sns.boxplot(data=dta_wdbc[['perimeter']], palette=\"Set3\")\n",
    "sns.swarmplot(data=dta_wdbc[['perimeter']], size=1, edgecolor=\"black\", linewidth=.9)"
   ]
  }
 ],
 "metadata": {
  "kernelspec": {
   "display_name": "Python 3",
   "language": "python",
   "name": "python3"
  },
  "language_info": {
   "codemirror_mode": {
    "name": "ipython",
    "version": 3
   },
   "file_extension": ".py",
   "mimetype": "text/x-python",
   "name": "python",
   "nbconvert_exporter": "python",
   "pygments_lexer": "ipython3",
   "version": "3.6.4"
  }
 },
 "nbformat": 4,
 "nbformat_minor": 2
}
